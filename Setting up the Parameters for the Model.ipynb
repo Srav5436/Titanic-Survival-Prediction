{
 "cells": [
  {
   "cell_type": "code",
   "execution_count": null,
   "id": "c6332e2f-14f2-444d-a681-d9027e662466",
   "metadata": {},
   "outputs": [],
   "source": [
    "from sklearn.model_selection import train_test_split, cross_val_score\n",
    "\n",
    "def classify(model):\n",
    "    x_train, x_test, y_train, y_test = train_test_split(\n",
    "        X, y, test_size=0.25, random_state=40\n",
    "    )\n",
    "    model.fit(x_train, y_train)\n",
    "    print(\"Accuracy\", model.score(x_test, y_test))\n",
    "    score = cross_val_score(model, X, y, cv=5)\n",
    "    print(\"CV SCORE :\", np.mean(score))"
   ]
  },
  {
   "cell_type": "code",
   "execution_count": null,
   "id": "789d4b3d-afda-4744-a584-b40bfabaa934",
   "metadata": {},
   "outputs": [],
   "source": [
    "from sklearn.tree import DecisionTreeClassifier\n",
    "model = DecisionTreeClassifier()\n",
    "classify(model)"
   ]
  },
  {
   "cell_type": "code",
   "execution_count": null,
   "id": "0e5ddb03-c4a4-40bf-945d-50af2c4aa46f",
   "metadata": {},
   "outputs": [],
   "source": [
    "from lightgbm import LGBMClassifier\n",
    "model = LGBMClassifier()\n",
    "classify(model)"
   ]
  },
  {
   "cell_type": "code",
   "execution_count": null,
   "id": "3068a3c9-ff5d-4d76-8cd6-9a9c39656933",
   "metadata": {},
   "outputs": [],
   "source": [
    "from xgboost import XGBClassifier\n",
    "model = XGBClassifier()\n",
    "classify(model)"
   ]
  },
  {
   "cell_type": "code",
   "execution_count": null,
   "id": "f6fec0d0-cb22-4d17-91ce-efb31b02c963",
   "metadata": {},
   "outputs": [],
   "source": [
    "from sklearn.ensemble import RandomForestClassifier\n",
    "model = RandomForestClassifier()\n",
    "classify(model)"
   ]
  },
  {
   "cell_type": "code",
   "execution_count": null,
   "id": "e7ca0bf5-e00b-4d6f-ac21-ebda19fd7f08",
   "metadata": {},
   "outputs": [],
   "source": [
    "from sklearn.ensemble import ExtraTreesClassifier\n",
    "model = ExtraTreesClassifier()\n",
    "classify(model)"
   ]
  },
  {
   "cell_type": "code",
   "execution_count": null,
   "id": "8d842009-d989-4921-b715-6546bf2da314",
   "metadata": {},
   "outputs": [],
   "source": [
    "from sklearn.linear_model import LogisticRegression\n",
    "model = LogisticRegression(max_iter=1000)\n",
    "classify(model)"
   ]
  },
  {
   "cell_type": "code",
   "execution_count": null,
   "id": "b949a059-1998-4303-9879-1cd4e7e6527c",
   "metadata": {},
   "outputs": [],
   "source": [
    "model = XGBClassifier()\n",
    "model.fit(X, y)"
   ]
  },
  {
   "cell_type": "code",
   "execution_count": null,
   "id": "a2423b43-0082-4c8e-8566-8dd060a74071",
   "metadata": {},
   "outputs": [],
   "source": [
    "X_test = test.drop(columns=[\"PassengerId\", \"Name\", \"Cabin\", \"Ticket\"], axis=1)\n",
    "X_test"
   ]
  },
  {
   "cell_type": "code",
   "execution_count": null,
   "id": "43ab539b-527c-42e6-b5ef-65c899b1a305",
   "metadata": {},
   "outputs": [],
   "source": [
    "from sklearn.preprocessing import LabelEncoder\n",
    "cols = [\"Sex\", \"Embarked\"]\n",
    "le = LabelEncoder()\n",
    "for col in cols:\n",
    "    X_test[col] = le.fit_transform(X_test[col])\n",
    "X_test.head()"
   ]
  },
  {
   "cell_type": "code",
   "execution_count": null,
   "id": "f663daa1-4753-43c5-a889-c2e469d34dfe",
   "metadata": {},
   "outputs": [],
   "source": [
    "X_test[\"Age\"] = X_test[\"Age\"].fillna(X_test[\"Age\"].mean())\n",
    "X_test[\"Fare\"] = X_test[\"Fare\"].fillna(X_test[\"Fare\"].mean())\n",
    "\n",
    "X_test.isnull().sum()"
   ]
  }
 ],
 "metadata": {
  "kernelspec": {
   "display_name": "Python 3 (ipykernel)",
   "language": "python",
   "name": "python3"
  },
  "language_info": {
   "codemirror_mode": {
    "name": "ipython",
    "version": 3
   },
   "file_extension": ".py",
   "mimetype": "text/x-python",
   "name": "python",
   "nbconvert_exporter": "python",
   "pygments_lexer": "ipython3",
   "version": "3.12.7"
  }
 },
 "nbformat": 4,
 "nbformat_minor": 5
}
