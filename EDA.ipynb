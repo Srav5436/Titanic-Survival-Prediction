{
 "cells": [
  {
   "cell_type": "code",
   "execution_count": null,
   "id": "369f5f60-1ee5-4a6c-b1db-671a9364dfdb",
   "metadata": {},
   "outputs": [],
   "source": [
    "train_data.info()"
   ]
  },
  {
   "cell_type": "code",
   "execution_count": null,
   "id": "8116a156-43f8-4dd2-8511-3081889470a7",
   "metadata": {},
   "outputs": [],
   "source": [
    "df_num = train_data[[\"Age\", \"SibSp\", \"Parch\", \"Fare\"]]\n",
    "df_cat = train_data[[\"Survived\", \"Sex\", \"Cabin\", \"Embarked\", \"Ticket\"]]"
   ]
  },
  {
   "cell_type": "code",
   "execution_count": null,
   "id": "ef226c7f-cf93-4c95-9303-93f34f06314b",
   "metadata": {},
   "outputs": [],
   "source": [
    "for i in df_num.columns:\n",
    "    plt.hist(df_num[i])\n",
    "    plt.title(i)\n",
    "    plt.show()"
   ]
  },
  {
   "cell_type": "code",
   "execution_count": null,
   "id": "21c57ed2-4785-4274-9d15-4b0ad2c58a30",
   "metadata": {},
   "outputs": [],
   "source": [
    "sns.barplot(data=train_data, x=\"Pclass\", y=\"Fare\", hue=\"Survived\")"
   ]
  },
  {
   "cell_type": "code",
   "execution_count": null,
   "id": "9f54662d-066b-4ab1-b5f5-60bd0509d217",
   "metadata": {},
   "outputs": [],
   "source": [
    "pd.pivot_table(train_data, index=\"Survived\", values=[\"Age\", \"SibSp\", \"Parch\", \"Fare\"])"
   ]
  },
  {
   "cell_type": "code",
   "execution_count": null,
   "id": "976a144f-0dc9-467e-886b-cd82647a88e9",
   "metadata": {},
   "outputs": [],
   "source": [
    "for i in df_cat.columns:\n",
    "    sns.barplot(x=df_cat[i].value_counts().index, y=df_cat[i].value_counts())\n",
    "    plt.show()"
   ]
  },
  {
   "cell_type": "code",
   "execution_count": null,
   "id": "0dc31a46-4551-4e0c-922d-0c8621dace1e",
   "metadata": {},
   "outputs": [],
   "source": [
    "x = pd.DataFrame(\n",
    "    (\n",
    "        pd.pivot_table(\n",
    "            train_data,\n",
    "            index=\"Survived\",\n",
    "            columns=\"Sex\",\n",
    "            values=\"Ticket\",\n",
    "            aggfunc=\"count\",\n",
    "        )\n",
    "    )\n",
    ")\n",
    "print()\n",
    "print(\n",
    "    pd.pivot_table(\n",
    "        train_data, index=\"Survived\", columns=\"Pclass\", values=\"Ticket\", aggfunc=\"count\"\n",
    "    )\n",
    ")\n",
    "print()\n",
    "print(\n",
    "    pd.pivot_table(\n",
    "        train_data,\n",
    "        index=\"Survived\",\n",
    "        columns=\"Embarked\",\n",
    "        values=\"Ticket\",\n",
    "        aggfunc=\"count\",\n",
    "    )\n",
    ")\n",
    "print()\n",
    "x"
   ]
  },
  {
   "cell_type": "code",
   "execution_count": null,
   "id": "c01a868e-f503-4c3d-a056-85ff01a2000d",
   "metadata": {},
   "outputs": [],
   "source": []
  }
 ],
 "metadata": {
  "kernelspec": {
   "display_name": "Python 3 (ipykernel)",
   "language": "python",
   "name": "python3"
  },
  "language_info": {
   "codemirror_mode": {
    "name": "ipython",
    "version": 3
   },
   "file_extension": ".py",
   "mimetype": "text/x-python",
   "name": "python",
   "nbconvert_exporter": "python",
   "pygments_lexer": "ipython3",
   "version": "3.12.7"
  }
 },
 "nbformat": 4,
 "nbformat_minor": 5
}
