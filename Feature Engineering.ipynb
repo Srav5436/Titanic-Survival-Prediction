{
 "cells": [
  {
   "cell_type": "code",
   "execution_count": null,
   "id": "4b599584-aebf-4a23-894c-ebabb3e762aa",
   "metadata": {},
   "outputs": [],
   "source": [
    "train_data[\"Fare\"] = np.log(train_data[\"Fare\"] + 1)"
   ]
  },
  {
   "cell_type": "code",
   "execution_count": null,
   "id": "68aaccc7-65c6-44e1-bcd9-e172dc0e1e4d",
   "metadata": {},
   "outputs": [],
   "source": [
    "sns.displot(train_data[\"Fare\"], kde=True)"
   ]
  },
  {
   "cell_type": "code",
   "execution_count": null,
   "id": "7b4af2a0-bb6a-456a-b309-cf6762a66bb4",
   "metadata": {},
   "outputs": [],
   "source": [
    "corr = train_data.corr(numeric_only=True)\n",
    "sns.heatmap(corr, annot=True, fmt=\".2f\", cmap=\"coolwarm\")"
   ]
  },
  {
   "cell_type": "code",
   "execution_count": null,
   "id": "dfd15e65-3542-400d-8366-280c4abcfd06",
   "metadata": {},
   "outputs": [],
   "source": [
    "from sklearn.preprocessing import LabelEncoder\n",
    "\n",
    "cols = [\"Sex\", \"Embarked\"]\n",
    "le = LabelEncoder()\n",
    "for col in cols:\n",
    "    train_data[col] = le.fit_transform(train_data[col])\n",
    "\n",
    "train_data.head()"
   ]
  },
  {
   "cell_type": "code",
   "execution_count": null,
   "id": "84806709-93d6-4098-bd37-61b39a3eeeac",
   "metadata": {},
   "outputs": [],
   "source": [
    "X = train_data.drop(columns=[\"Survived\"], axis=1)\n",
    "y = train_data[\"Survived\"]\n",
    "train_data"
   ]
  },
  {
   "cell_type": "code",
   "execution_count": null,
   "id": "edaa3d8e-ffa0-435d-9119-60fa2b3bb327",
   "metadata": {},
   "outputs": [],
   "source": []
  }
 ],
 "metadata": {
  "kernelspec": {
   "display_name": "Python 3 (ipykernel)",
   "language": "python",
   "name": "python3"
  },
  "language_info": {
   "codemirror_mode": {
    "name": "ipython",
    "version": 3
   },
   "file_extension": ".py",
   "mimetype": "text/x-python",
   "name": "python",
   "nbconvert_exporter": "python",
   "pygments_lexer": "ipython3",
   "version": "3.12.7"
  }
 },
 "nbformat": 4,
 "nbformat_minor": 5
}
